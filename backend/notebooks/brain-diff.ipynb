{
 "cells": [
  {
   "cell_type": "code",
   "execution_count": 37,
   "metadata": {},
   "outputs": [
    {
     "name": "stdout",
     "output_type": "stream",
     "text": [
      "None\n",
      "Started parsing the file under job_id 2059df9d-af51-4fa0-95d1-3517927c4744\n",
      "[Document(id_='ef1a9119-89ad-4da7-852f-62d8bc693963', embedding=None, metadata={}, excluded_embed_metadata_keys=[], excluded_llm_metadata_keys=[], relationships={}, text='# Codification :\\n\\n# Coupe de Pates CHARTE PRODUITS COUP DE PATES CDP_QUA_CHART_01\\n\\nVersion : 5\\n\\nDate d’application : 13/12/2023\\n\\nDate Mises à jour\\n\\n|19/12/2014|Création|\\n|---|---|\\n|12/12/2019|Insertion des additifs interdits et à éviter|\\n|13/05/2022|Revue des exigences reçues et annexes|\\n|30/03/2023|Revue des annexes I et II. Fréquence de mise à jour CDC|\\n|13/12/2023|Ajout d’une exigence de certification sur le cacao Revue des exigences de certification de l’huile de palme|\\n\\n# Table des matières\\n\\n1. Exigence reçue\\n2. Produits soumis à certification ou allégations\\n3. 1. Produits « sans gluten »\\n2. Produits issus de l’agriculture biologique\\n\\nExigences générales relatives au fournisseur\\n4. Exigences relatives aux sites de production\\n5. Traçabilité\\n6. Suivi analytique\\n7. 1. Suivi microbiologique\\n2. Suivi nutritionnel\\n3. Suivi organoleptique\\n\\nNon conformités\\n8. Gestion de crise Coup de Pates\\n\\nANNEXE I : Additifs rouges : additifs pour lesquels les rapports scientifiques rapportent une potentiellecancérogénicité ou une implication dans les pathologies lourdes\\n\\nANNEXE II : Additifs oranges : additifs pour lesquels les rapports scientifiques sont contradictoires\\n\\nANNEXE III : Additifs verts : additifs identifiés à ce jour comme non dangereux pour la santé\\n\\nANNEXE IV : Ingrédients controversés\\n\\nPage 1 sur 12\\n---\\n# Codification :\\n\\nCDP_QUA_CHART_01\\n\\n# CHARTE PRODUITS COUP DE PATES Version : 5\\n\\nDate d’application : 13/12/2023\\n\\n|Liste des abréviations|\\n|---|\\n|AFDIAG : Association Française Des Intolérants Au Gluten|FCD : Fédération du Commerce et de la Distribution|\\n|AOECS : Association of European Coeliac Societies|GFSI: Global Food Safety Initiative|\\n|COFRAC: Comité français d\\'accréditation|ILAC : International Laboratory Accreditation Cooperation|\\n|DGHM: Deutschen Gesellschaft für Hygiene und Mikrobiologie|NPD: New Product Development|\\n\\nPage 2 sur 12\\n---\\n# Codification :\\n\\nCDP_QUA_CHART_01\\n\\n# CHARTE PRODUITS COUP DE PATES\\n\\nVersion : 5\\n\\n# Date d’application :\\n\\n13/12/2023\\n\\n# Exigence receCe\\n\\nPour le développement de nos produits, nous souhaitons favoriser une offre saine avec des recettes simples (sans colorant, sans arome, sans conservateur), avec des ingrédients de qualité, en favorisant des produits locaux et labellisés.\\n\\nLe fournisseur s’engage à respecter la réglementation européenne et nationale ainsi que les codes d’usages professionnels applicables aux produits surgelés vendus à Coup de Pates. Pour les produits commercialisés sous une marque appartenant à Coup de Pates, le fournisseur s’engage également à respecter les exigences spécifiques de cette même marque. Dans ce cas, nos exigences recettes sont spécifiques à trois niveaux gammes : Entrée de gamme, Cœur de gamme, Haut de gamme. Pour les produits développés en réponse à des demandes spécifiques de nos clients, il vous sera également demandé de prendre leurs exigences en considération.\\n\\n|Caractéristiques|Entrée de gamme|Cœur de gamme|Haut de Gamme|\\n|---|---|---|---|\\n|Ingrédients soumis à déclaration OGM|INTERDIT|INTERDIT|INTERDIT|\\n|Traitement par Ionisation|INTERDIT|INTERDIT|INTERDIT|\\n|Colorants azoïques (E102, E104, E110,E122, E124, E129)|INTERDIT|INTERDIT|INTERDIT|\\n|Nanoparticules (E170, E171, E172,E174, E152, E341, E551 et E552)|INTERDIT|INTERDIT|INTERDIT|\\n|Glutamates et exhausteurs de goût|INTERDIT|INTERDIT|INTERDIT|\\n|Œufs de poules élevées en cage|INTERDIT|INTERDIT|INTERDIT|\\n|Matières grasses partiellementhydrogénées|INTERDIT|INTERDIT|INTERDIT|\\n|Acides gras trans non naturellementprésents|INTERDIT|INTERDIT|INTERDIT|\\n|Edulcorants de synthèse|INTERDIT|INTERDIT|INTERDIT|\\n|Viande Séparée Mécaniquement - VSM|INTERDIT|INTERDIT|INTERDIT|\\n|Cacao non certifié durable|INTERDIT| |* interdit pour tous les NPD et plan action pour remplacer le cacao non certifié dans l\\'existant.|\\n|Gélatine porcine|INTERDIT|INTERDIT|INTERDIT|\\n|Gélatine animale – (autre que porcine)|A EVITER|INTERDIT|INTERDIT|\\n| |tolérance dans les pâtisseries|tolérance dans les pâtisseries| |\\n\\nPage 3 sur 12\\n---\\n# Codification :\\n\\nCDP_QUA_CHART_01\\n\\n# CHARTE PRODUITS COUP DE PATES\\n\\nVersion : 5\\n\\nDate d’application : 13/12/2023\\n\\n| |INTERDIT|A EVITER|A EVITER|INTERDIT|\\n|---|---|---|---|---|\\n|Huile de palme + palmiste non RSPO|* interdit pour tous les NPD et plan action pour retirer dans l\\'existant - (tolérée dans supports d’additifs) - En aucun cas, l’huilede palme non RSPO ne pourra être substituée par de l’huile de coprah ou coco.| | | |\\n|Huile de palme + palmiste RSPO| |A EVITER|A EVITER|INTERDIT|\\n|Arômes artificiels| | |tolérance dans lespâtisseries|INTERDIT|\\n| | | |*sauf arômes de fumée et vanilline| |\\n\\nPage 4 sur 12\\n---\\n# Codification :\\n\\nCDP_QUA_CHART_01\\n\\n# CHARTE PRODUITS COUP DE PATES\\n\\nVersion : 5\\n\\nDate d’application : 13/12/2023\\n\\n|Colorants artificiels|A EVITER|A EVITER|INTERDIT|\\n|---|---|---|---|\\n| |Interdit dans les produits salés| | |\\n\\nIngrédients controversés (cf.Annexe IV)\\nA EVITER\\nA EVITER\\nINTERDIT\\n\\n|Additifs rouges (cf. Annexe I)|A EVITER|INTERDIT|INTERDIT|\\n|---|---|---|---|\\n| |hors nitrites et polyphosphates| |hors nitrites dans les produits de salaison|\\n\\nAdditifs Oranges (cf. Annexe II)\\nA EVITER\\nA EVITER\\nA EVITER\\n\\n|Nitrites (E250 à E252)|A EVITER|A EVITER|INTERDIT|\\n|---|---|---|---|\\n| | | |Hors produits de salaison|\\n\\nPolyphosphates (E450 à 452 - E339 à341)\\nA EVITER\\nA EVITER\\nINTERDIT\\n\\nViande et volaille origine hors UE\\nA EVITER\\nA EVITER\\nINTERDIT\\n\\nA EVITER INTERDIT\\n\\nL’ensemble de ces critères est applicable à tous les produits vendus par Coup de Pates. Des dérogations peuvent être accordées au cas par cas, sur justifications fournies par le fournisseur et après validation par la direction qualité Coup de Pates.\\n\\n# Produits soumis à certification ou allégations\\n\\nLe fournisseur se doit de communiquer tout document permettant de valider la certification ou allégation associée à un produit.\\n\\nEn vue de vérifier la véracité des critères déclarés, le fournisseur s’engage à transmettre sur demande expresse de Coup de Pates, tout document permettant de justifier la certification et/ou de l’allégation associée(s) au(x) produit(s).\\n\\n# Produits « sans gluten »\\n\\nLe fournisseur doit confirmer annuellement à Coup de Pates que l’allégation « sans gluten » de son (ses) produit(s) est applicable, conformément au règlement européen n°828/2014. Pour cela, un bulletin d’analyse de quantification du taux de gluten dans le produit fini doit être communiqué au service qualité.\\n\\nSi le fournisseur possède un contrat de licence auprès d’une association de personnes cœliaques (AFDIAG, AOECS…), il en transmettra le numéro de licence à Coup de Pates et les rapports et/ou certificats d’audits selon le référentiel d’audit de l’AOECS. Page 5 sur 12\\n---\\n# Codification:\\n\\nCDP_QUA_CHART_01\\n\\n# CHARTE PRODUITS COUP DE PATES\\n\\nVersion: 5\\n\\nDate d’application: 13/12/2023\\n\\n2.2. Produits issus de l’agriculture biologique\\n\\nLe fournisseur s’engage à transmettre sur demande expresse de Coup de Pates, les analyses pesticides sur produits finis pour répondre aux exigences de la réglementation européenne (Règlement (CE) N°834/2007 relatif à la production biologique et à l’étiquetage des produits biologiques).\\n\\nEn cas de déclassement produit, de non-renouvellement ou de perte de la certification \"produit issu de l’agriculture biologique\", le fournisseur doit immédiatement en informer le service qualité Coup de Pates afin d’organiser le blocage et le retrait de ces produits.\\n\\nPage 6 sur 12\\n---\\n# Codification :\\n\\nCDP_QUA_CHART_01\\n\\n# CHARTE PRODUITS COUP DE PATES\\n\\nVersion : 5\\n\\nDate d’application : 13/12/2023\\n\\n# 3. Exigences générales relatives au fournisseur\\n\\nLe fournisseur se doit de disposer de moyens de contrôle et d\\'enregistrement permettant le respect de la chaîne du froid dans son stockage et son transport de denrées congelées/surgelées. Tout envoi d\\'échantillon devra être accompagné de la « Fiche développement produit » ou d’une fiche technique fournisseur, reprenant à minima les données techniques demandées dans le document précédent (composition, dimensions, DDM …). Toute autre information jugée nécessaire par le service qualité Coup de Pates devra être communiquée sur demande. Le cahier des charges Coup de Pates devra être rempli dès que le référencement du produit aura été confirmé. Il revient au fournisseur d’appliquer la plus grande diligence dans le transfert exhaustif de ces données. Le dossier établi à l’issue du processus de référencement sera validé à la fois par le fournisseur et un représentant du service qualité Coup de Pates. Toute modification du dossier technique devra être validée en amont par le service qualité Coup de Pates. Si cela est jugé nécessaire, des échantillons (produit actuel / produit modifié) devront être envoyés au service qualité Coup de Pates. Le cahier des charges devra être revu dans son intégralité tous les 5 ans. Même s’il n’y a pas de modification, le cahier des charges sera de nouveau signé avec la nouvelle date.\\n\\n# 4. Exigences relatives aux sites de production\\n\\nLe fournisseur se doit de communiquer les certificats relatifs à son activité, en cours de validité, par exemple : IFS, BRC, FSSC 22000. Le service qualité Coup de Pates devra être informé de tout renouvellement ou perte de certification. Le fournisseur se doit de communiquer, sur demande de Coup de Pates, l’ensemble des documents permettant de justifier sa maîtrise des risques liés à son activité (étude HACCP par exemple). La mise en place des mesures contre les actes malveillants en matière de protection de la chaine alimentaire/des produits sont de la responsabilité du fournisseur. Le fournisseur doit posséder un numéro d’enregistrement auprès des services officiels, permettant l’export de ses produits par Coup de Pates.\\n\\n# 5. Traçabilité\\n\\nLe fournisseur se doit d’assurer la traçabilité de ses produits, de la réception des matières premières jusqu’à l’expédition des produits finis. La traçabilité d’une référence doit pouvoir être assurée via la date de durabilité minimale (au format jour/mois/année).\\n\\nPage 7 sur 12\\n---\\n# Codification :\\n\\nCDP_QUA_CHART_01\\n\\n# CHARTE PRODUITS COUP DE PATES\\n\\nVersion : 5\\n\\nDate d’application : 13/12/2023\\n\\nSur demande de Coup de Pates, le fournisseur s’engage à transmettre les fiches ingrédients, certificats et éléments de traçabilité liés à la nature des matières premières, des emballages et du produit fini ainsi que les bilans de matière dans les délais stipulés.\\n\\n# Suivi analytique\\n\\n# 6.1. Suivi microbiologique\\n\\nLes analyses microbiologiques réalisées sur les produits finis doivent être en adéquation avec la réglementation européenne n°2073/2005 et les recommandations de la FCD en France, du DGHM en Allemagne et en Suisse, ou équivalent local au sein de l’Europe.\\n\\nUne analyse microbiologique devra être réalisée lors de chaque première fabrication. Cette analyse devra être réalisée par un laboratoire accrédité COFRAC ou équivalent du COFRAC reconnu par l’ILAC dans les pays concernés ou certifié ISO 17025. Les résultats doivent être transmis au service qualité Coup de Pates.\\n\\nL’ensemble des produits Coup de Pates doivent être inclus dans le plan de contrôle microbiologique du fournisseur, selon les critères FCD. Sur demande de Coup de Pates, un nouveau bulletin d’analyse devra être communiqué.\\n\\n# 6.2. Suivi nutritionnel\\n\\nLe fournisseur doit communiquer à Coup de Pates une analyse nutritionnelle réalisée par un laboratoire accrédité COFRAC ou équivalent du COFRAC reconnu par l’ILAC dans les pays concernés. Cette analyse doit être réalisée pour chaque nouveau produit référencé, afin de répondre aux exigences d’étiquetage européennes (avec quantification des acides gras trans et des fibres), et à chaque modification de matières premières et/ou de recette. La communication d’analyses nutritionnelles calculées à l’aide d’un logiciel consolidé est également acceptée.\\n\\nSur demande de Coup de Pates, un nouveau bulletin d’analyse devra être communiqué.\\n\\n# 6.3. Suivi organoleptique\\n\\nL’ensemble des produits Coup de Pates doivent être inclus dans le plan de contrôle organoleptique du fournisseur. Sur demande de Coup de Pates, les résultats de ces analyses devront être communiqués.\\n\\n# Non conformités\\n\\nEn cas de non-conformité produit, sanitaire ou réglementaire, le fournisseur s’engage à alerter immédiatement Coup de Pates et à communiquer les éléments de traçabilité nécessaires.\\n\\nEn cas de non-conformité détectée par le service qualité Coup de Pates ou un de ses clients, une notification est envoyée au fournisseur. Celui-ci s’engage à communiquer son analyse et son plan d’action dans les délais demandés.\\n\\nPage 8 sur 12\\n---\\n# Codification :\\n\\nCDP_QUA_CHART_01\\n\\n# CHARTE PRODUITS COUP DE PATES\\n\\nVersion : 5\\n\\nDate d’application :\\n\\n8.  Ges8on de crise Coup de Pates\\n\\n13/12/2023\\n\\nEn cas de crise, le fournisseur s’engage à suivre la procédure de ges8on de crise/alerte qui lui a été communiquée par Coup de Pates. Un contact spécifique avec numéro d’astreinte doit être communiqué.\\n\\nPage 9 sur 12\\n---\\n# Codification :\\n\\nCDP_QUA_CHART_01\\n\\n# CHARTE PRODUITS COUP DE PATES\\n\\nVersion : 5\\n\\n# Date d’application :\\n\\n13/12/2023\\n\\n|ANNEXE I : Addi7fs rouges : addi7fs pour lesquels les rapports scien7fiques rapportent une poten7elle cancérogénicité ou une implica7on dans les pathologies lourdes| |\\n|---|---|\\n|Tartrazine|E 102|\\n|Jaune de quinoléine|E 104|\\n|Sunset Yellow FCF/Jaune orange S|E 110|\\n|Azorubine, carmoisine|E 122|\\n|Amarante|E 123|\\n|Ponceau 4R, rouge cochenille A|E 124|\\n|Erythrosine|E 127|\\n|Rouge allura AC|E 129|\\n|Indigo8ne, carmin d’indigo|E 132|\\n|Bleu brillant FCF|E 133|\\n|Vert S|E 142|\\n|Caramel ammoniacal|E 150c|\\n|Caramel au sulfite d’ammonium|E 150d|\\n|Noir brillant PN|E 151|\\n|Brun HT|E 155|\\n|Carbonate de calcium|E 170|\\n|Dioxyde de 8tane|E 171|\\n|Oxyde et hydroxyde de fer|E 172|\\n|Aluminium|E 173|\\n|Argent|E 174|\\n|Lithol-rubine BK|E 180|\\n|Benzoate de potassium|E 212|\\n|Benzoate de calcium|E 213|\\n|P-hydroxybenzoate d’éthyle|E 214|\\n|Dérivé sodique de l’ester éthylique de l’acide p-hydroxybenzoïque|E 215|\\n|P-hydroxybenzoate de méthyle|E 218|\\n|Dérivé sodique de l’ester méthylique de l’acide p-hydroxybenzoïque|E 219|\\n|Nisine|E 234|\\n\\nPage 10 sur\\n---\\n# Codification :\\n\\nCDP_QUA_CHART_01\\n\\nCHARTE PRODUITS COUP DE PATES Version : 5\\n\\nDate d’application :\\n\\n|Hexaméthylènetétramine|E 239|13/12/2023|\\n|---|---|---|\\n|Dicarbonate de diméthyle|E 242| |\\n|Éthyl Lauroyl Arginate|E 243| |\\n|Nitrite de potassium|E 249| |\\n|Nitrite de sodium|E 250| |\\n|Nitrate de sodium|E 251| |\\n|Nitrate de potassium|E 252| |\\n|Acide propionique|E 280| |\\n|Propionate de sodium|E 281| |\\n|Propionate de potassium|E 283| |\\n|Acide borique|E 284| |\\n|Tétraborate de sodium (borax)|E 285| |\\n|Acide fumarique|E 297| |\\n|Gamma-tocophérol|E 308| |\\n|Delta-tocophérol|E 309| |\\n|Gallate de propyle|E 310| |\\n|Acide érythorbique|E 315| |\\n|Butylhydro-quinone ter8aire (BHQT)|E 319| |\\n|Butylhydroxy-anisol (BHA)|E 320| |\\n|Butylhydroxy-toluène (BHT)|E 321| |\\n|Tartrates de sodium|E 335| |\\n|Tartrate double de sodium et de potassium|E 337| |\\n|Acide phosphorique|E 338| |\\n|Phosphates de sodium|E 339| |\\n|Phosphates de potassium|E 340| |\\n|Phosphates de calcium|E 341| |\\n|Phosphates de magnésium|E 343| |\\n|Malates de sodium|E 350| |\\n|Malates de calcium|E 352| |\\n|Acide adipique|E 355| |\\n|Adipate de sodium|E 356| |\\n\\nPage 11 sur\\n---\\n# Codification :\\n\\nCDP_QUA_CHART_01\\n\\n# CHARTE PRODUITS COUP DE PATES Version : 5\\n\\nDate d’application :\\n\\n|Adipate de potassium|E 357|13/12/2023|\\n|---|---|---|\\n|Acide succinique|E 363| |\\n|Citrate de triammonium|E 380| |\\n|Alginate de potassium|E 402| |\\n|Alginate d’ammonium|E 403| |\\n|Mannitol|E 421| |\\n|Gomme arabique modifiée à l’acide octénylsuccinique (OSA)|E 423| |\\n|Konjac|E 425| |\\n|Hémicellulose de soja|E 426| |\\n|Stéarate de polyoxyéthylène (40)|E 431| |\\n|Monolaurate de polyoxyéthylène de sorbitane (polysorbate 20)|E 432| |\\n\\nPage 12 sur\\n---\\n# Codification :\\n\\nCDP_QUA_CHART_01\\n\\nCHARTE PRODUITS COUP DE PATES Version : 5\\n\\n# Date d’application :\\n\\n13/12/2023\\n\\n|Monooléate de polyoxyéthylène de sorbitane (polysorbate 80)|E 433|\\n|---|---|\\n|Monopalmitate de polyoxyéthylène de sorbitane (polysorbate 40)|E 434|\\n|Monostéarate de polyoxyéthylène de sorbitane (polysorbate 60)|E 435|\\n|Tristéarate de polyoxyéthylène de sorbitane (polysorbate 65)|E 436|\\n|Phosphates d’ammonium|E 442|\\n|Acétate isobutyrate de saccharose|E 444|\\n|Esters glycériques de résine de bois|E 445|\\n|Diphosphates|E 450|\\n|Triphosphates|E 451|\\n|Polyphosphates|E 452|\\n|Polyaspartate de potassium|E 456|\\n|Bêta-cyclodextrine|E 459|\\n|Éthylcellulose|E 462|\\n|Hydroxypropylcellulose faiblement subs8tuée (L-HPC)|E 463a|\\n|Méthyléthylcellulose|E 465|\\n|Carboxyméthylcellulose de sodium ré8culée, gomme de cellulose ré8culée|E 468|\\n|Carboxyméthylcellulose hydrolysée de manière enzymatique, gomme de cellulose|E 469|\\n|Sucroglycérides|E 474|\\n|Huile de soja oxydée par chauffage ayant|E 479b|\\n|Monostéarate de sorbitane|E 491|\\n|Tristéarate de sorbitane|E 492|\\n|Monolaurate de sorbitane|E 493|\\n|Monooléate de sorbitane|E 494|\\n|Monopalmitate de sorbitane|E 495|\\n|Chlorure d’étain|E 512|\\n\\nPage 13 sur\\n---\\n|Codification :|CDP_QUA_CHART_01|\\n|---|---|\\n|CHARTE PRODUITS COUP DE PATES Version :|5|\\n|Date d’application :| |\\n\\n|Sulfate d’aluminium|E 520|13/12/2023|\\n|---|---|---|\\n|Sulfate d’aluminium sodique|E 521| |\\n|Sulfate d’aluminium potassique|E 522| |\\n|Sulfate d’aluminium ammonique|E 523| |\\n|Hydroxyde d’ammonium|E 527| |\\n|Oxyde de calcium|E 529| |\\n|Oxyde de magnésium|E 530| |\\n|Ferrocyanure de calcium|E 538| |\\n|Phosphate d’aluminium sodique acide|E 541| |\\n---\\n# Codification :\\n\\nCDP_QUA_CHART_01\\n\\n# CHARTE PRODUITS COUP DE PATES Version : 5\\n\\nDate d’application :\\n\\n13/12/2023\\n\\nPage 15 sur\\n---\\n|Codification :|CDP_QUA_CHART_01|\\n|---|---|\\n|CHARTE PRODUITS COUP DE PATES Version :|5|\\n|Date d’application :|13/12/2023|\\n\\n|Dioxyde de silicium|E 551|\\n|---|---|\\n|Silicate de calcium|E 552|\\n|Silicate de magnésium|E 553a|\\n|Talc|E 553b|\\n|Silicate alumino-sodique|E 554|\\n|Silicate alumino-potassique|E 555|\\n|4-Hexylrésorcinol|E 586|\\n|Acide glutamique|E 620|\\n|Glutamate monosodique|E 621|\\n|Glutamate monopotassique|E 622|\\n|Diglutamate de calcium|E 623|\\n|Glutamate d’ammonium|E 624|\\n|Diglutamate de magnésium|E 625|\\n|Acide guanylique|E 626|\\n|Guanylate disodique|E 627|\\n|Guanylate dipotassique|E 628|\\n|Guanylate de calcium|E 629|\\n|Acide inosinique|E 630|\\n|Inosinate disodique|E 631|\\n|Inosinate dipotassique|E 632|\\n|Inosinate de calcium|E 633|\\n|5ʹ-ribonucléo8de calcique|E 634|\\n|5ʹ-ribonucléo8de disodique|E 635|\\n|Glycine et son sel de sodium|E 640|\\n|Acétate de zinc|E 650|\\n|Cire microcristalline|E 905|\\n|Poly-1-décène hydrogéné|E 907|\\n|Cire de polyéthylène oxydée|E 914|\\n---\\n|Codification :|CDP_QUA_CHART_01|\\n|---|---|\\n|CHARTE PRODUITS COUP DE PATES|Version : 5|\\n|Date d’application :| |\\n|Butane|E 943a|13/12/2023|\\n|Isobutane|E 943b| |\\n|Propane|E 944| |\\n|Acésulfame-K|E 950| |\\n|Aspartame|E 951| |\\n|Cyclamates|E 952| |\\n| | |Page 17 sur|\\n---\\n# Codification :\\n\\nCDP_QUA_CHART_01\\n\\n# CHARTE PRODUITS COUP DE PATES Version : 5\\n\\nDate d’application :\\n\\n13/12/2023\\n\\nPage 18 sur\\n---\\n# Codification: CDP_QUA_CHART_01\\n\\n# CHARTE PRODUITS COUP DE PATES Version: 5\\n\\nDate d’application: 13/12/2023\\n\\n|Isomalt|E 953|\\n|---|---|\\n|Saccharines|E 954|\\n|Sucralose|E 955|\\n|Thauma8ne|E 957|\\n|Néotame|E 961|\\n|Sel d’aspartame-acésulfame|E 962|\\n|Sirop de polyglycitol|E 964|\\n|Mal8tols|E 965|\\n|Xylitol|E 967|\\n|Érythritol|E 968|\\n|Polyvinylpyrrolidone|E 1201|\\n|Polyvinylpolypyrrolidone|E 1202|\\n\\nPage 19 sur\\n---\\n# Codification: CDP_QUA_CHART_01 CHARTE PRODUITS COUP DE PATES Version: 5\\n\\nDate d’application: 13/12/2023\\n\\n|Alcool polyvinylique (APV)|E 1203|\\n|---|---|\\n|Copolymère méthacrylate basique|E 1205|\\n|Copolymère de méthacrylate neutre|E 1206|\\n|Copolymère de méthacrylate anionique|E 1207|\\n|Copolymère d’acétate de vinyle et de polyvinylpyrrolidone|E 1208|\\n|Copolymère greffé d\\'alcool polyvinylique et de polyéthylèneglycol|E 1209|\\n|Octényl succinate d’amidon d’aluminium|E 1452|\\n|Diacétate de glycéryle (diacé8ne)|E 1517|\\n|Alcool benzylique|E 1519|\\n|Polyéthylène glycol|E 1521|\\n\\nPage 20 sur\\n---\\n# Codification :\\n\\nCDP_QUA_CHART_01\\n\\n# CHARTE PRODUITS COUP DE PATES\\n\\nVersion : 5\\n\\nDate d’application : ANNEXE II : Addi8fs oranges : addi8fs pour lesquels les rapports scien8fiques sont contradictoires 13/12/2023\\n\\n|Additif|Code|\\n|---|---|\\n|Acide carminique, carmins|E 120|\\n|Bleu patenté V|E 131|\\n|Caramel de sulfite caus8que|E 150b|\\n|Or|E 175|\\n|Acide benzoïque|E 210|\\n|Benzoate de sodium|E 211|\\n|Anhydride sulfureux|E 220|\\n|Sulfite de sodium|E 221|\\n|Sulfite acide de sodium|E 222|\\n|Disulfite de sodium|E 223|\\n|Disulfite de potassium|E 224|\\n|Sulfite de calcium|E 226|\\n|Sulfite acide de calcium|E 227|\\n|Sulfite acide de potassium|E 228|\\n|Natamycine|E 235|\\n|Éthylène-diamine-tétra-acétate de calcium|E 385|\\n|Alginate de propane-1,2-diol|E 405|\\n|Algues Euchema transformées|E 407a|\\n|Carraghénanes|E 407|\\n|Cellulose|E 460|\\n|Hydroxypropylcellulose|E 463|\\n|Hydroxypropylméthylcellulose|E 464|\\n|Carboxyméthyl-cellulose sodique, gomme|E 466|\\n|Sels de sodium, de potassium, calcium d’acides|E 470|\\n|Mono- et diglycérides d’acides gras|E 471|\\n\\nPage 10 sur 12\\n---\\n# Codification :\\n\\nCDP_QUA_CHART_01\\n\\n# CHARTE PRODUITS COUP DE PATES Version : 5\\n\\nDate d’application: 13/12/2023\\n\\n|Esters acé8ques des mono- et diglycérides|E 472a|\\n|---|---|\\n|Esters lac8ques des mono- et diglycérides d’acides gras|E 472b|\\n|Esters citriques des mono- et diglycérides d’acides gras|E 472c|\\n|Esters tartriques des mono- et diglycérides d’acides gras|E 472d|\\n|Esters monoacétyltartriques et diacétyltartriques des mono- et diglycérides d’acides gras|E 472e|\\n|Esters mixtes acé8ques et tartriques des mono- et diglycérides d’acides gras|E 472f|\\n|Sucroesters d’acides gras|E 473|\\n|Esters polyglycériques d’acides gras|E 475|\\n|Esters de propane-1,2-diol d’acides gras|E 477|\\n|Stéaroyl-2-lactylate de sodium|E 481|\\n|Stéaroyl-2-lactylate de calcium|E 482|\\n|Tartrate de stéaryle|E 483|\\n|Diméthylpolysiloxane|E 900|\\n|Advantame|E 969|\\n|Extraits de quillaia|E 999|\\n|Lysozyme|E 1105|\\n|Amidon oxydé|E 1404|\\n|Phosphate de monoamidon|E 1410|\\n|Phosphate de diamidon|E 1412|\\n|Phosphate de diamidon phosphaté|E 1413|\\n|Phosphate de diamidon acétylé|E 1414|\\n|Amidon acétylé|E 1420|\\n|Adipate de diamidon acétylé|E 1422|\\n|Amidon hydroxypropylé|E 1440|\\n|Phosphate de diamidon hydroxypropylé|E 1442|\\n|Octényle succinate d’amidon sodique|E 1450|\\n\\nPage 10 sur 12\\n---\\n|Codification :|CDP_QUA_CHART_01|\\n|---|---|\\n|CHARTE PRODUITS COUP DE PATES|Version : 5|\\n|Date d’application :|Amidon oxydé acétylé|E 1451|13/12/2023|\\n| | |Page 10 sur 12|\\n---\\n# Codification:\\n\\nCDP_QUA_CHART_01\\n\\n# CHARTE PRODUITS COUP DE PATES\\n\\nVersion: 5\\n\\n# Date d’application:\\n\\n13/12/2023\\n\\n# ANNEXE III: Addi8fs verts: addi8fs iden8fiés à ce jour comme non dangereux pour la santé.\\n\\n|Additif|Code|\\n|---|---|\\n|Curcumine|E 100|\\n|Riboflavines|E 101|\\n|Chlorophylles et chlorophyllines|E 140|\\n|Complexes cuivre-chlorophylles et cuivre-chlorophyllines|E 141|\\n|Caramel ordinaire|E 150a|\\n|Charbon végétal médicinal|E 153|\\n|Caroténoïdes|E 160a|\\n|Bixine de rocou / Norbixine de rocou|E 160b|\\n|Extrait de paprika, capsanthine, capsorubine|E 160c|\\n|Lycopène|E 160d|\\n|β-apocaroténal-8\\' (C 30)|E 160e|\\n|Lutéine|E 161b|\\n|Rouge de beCerave, bétanine|E 162|\\n|Anthocyanes|E 163|\\n|Acide sorbique|E 200|\\n|Sorbate de potassium|E 202|\\n|Acide acé8que|E 260|\\n|Acétates de potassium|E 261|\\n|Acétates de sodium|E 262|\\n|Acétate de calcium|E 263|\\n|Acide lac8que|E 270|\\n|Propionate de calcium|E 282|\\n|Dioxyde de carbone|E 290|\\n|Acide malique|E 296|\\n|Acide ascorbique|E 300|\\n|Ascorbate de sodium|E 301|\\n|Ascorbate de calcium|E 302|\\n|Esters d’acides gras de l’acide ascorbique|E 304|\\n|Extrait riche en tocophérols|E 306|\\n\\nPage 1 sur 12\\n---\\n# Codification :\\n\\nCDP_QUA_CHART_01\\n\\nCHARTE PRODUITS COUP DE PATES Version : 5\\n\\n# Date d’application :\\n\\n|Alpha-tocophérol|E 307|13/12/2023|\\n|---|---|---|\\n|Érythorbate de sodium|E 316| |\\n|Lécithines|E 322| |\\n|Lactate de sodium|E 325| |\\n|Lactate de potassium|E 326| |\\n|Lactate de calcium|E 327| |\\n|Acide citrique|E 330| |\\n|Citrates de sodium|E 331| |\\n|Citrates de potassium|E 332| |\\n|Citrates de calcium|E 333| |\\n|Acide tartrique [L (+)]|E 334| |\\n|Tartrates de potassium|E 336| |\\n|Malate de potassium|E 351| |\\n|Acide métatartrique|E 353| |\\n|Tartrate de calcium|E 354| |\\n|Extraits de romarin|E 392| |\\n|Acide alginique|E 400| |\\n|Alginate de sodium|E 401| |\\n|Alginate de calcium|E 404| |\\n|Agar-agar|E 406| |\\n|Farine de graines de caroube|E 410| |\\n|Gomme guar|E 412| |\\n|Gomme adragante|E 413| |\\n|Gomme arabique ou gomme d’acacia|E 414| |\\n|Gomme xanthane|E 415| |\\n|Gomme Karaya|E 416| |\\n|Gomme Tara|E 417| |\\n|Gomme Gellane|E 418| |\\n|Sorbitols|E 420| |\\n|Glycérol|E 422| |\\n|Gomme cassia|E 427| |\\n\\nPage 1 2 sur 12\\n---\\n# Codification :\\n\\nCDP_QUA_CHART_01\\n\\nCHARTE PRODUITS COUP DE PATES Version : 5\\n\\nDate d’application:\\n\\n|Pec8nes|E 440|13/12/2023|\\n|---|---|---|\\n|Méthylcellulose|E 461| |\\n|Sels de sodium, de potassium et de calcium d’acides gras|E 470a| |\\n|Sels de magnésium d’acides gras|E 470b| |\\n|Polyricinoléate de polyglycérol|E 476| |\\n|Phytostérols riches en s8gmastérol|E 499| |\\n|Carbonates de sodium|E 500| |\\n|Carbonates de potassium|E 501| |\\n|Carbonates d’ammonium|E 503| |\\n|Carbonates de magnésium|E 504| |\\n|Acide chlorhydrique|E 507| |\\n|Chlorure de potassium|E 508| |\\n|Chlorure de calcium|E 509| |\\n|Chlorure de magnésium|E 511| |\\n|Acide sulfurique|E 513| |\\n|Sulfates de sodium|E 514| |\\n|Sulfates de potassium|E 515| |\\n|Sulfate de calcium|E 516| |\\n|Sulfate d’ammonium|E 517| |\\n|Hydroxyde de sodium|E 524| |\\n\\nPage 13 sur 12\\n---\\n# Codification :\\n\\nCDP_QUA_CHART_01\\n\\n# CHARTE PRODUITS COUP DE PATES Version : 5\\n\\nDate d’application : 13/12/2023\\n\\n|Hydroxyde de potassium|E 525|\\n|---|---|\\n|Hydroxyde de calcium|E 526|\\n|Hydroxyde de magnésium|E 528|\\n|Tartrate de fer|E 534|\\n|Ferrocyanure de sodium|E 535|\\n|Ferrocyanure de potassium|E 536|\\n|Acides gras|E 570|\\n|Acide gluconique|E 574|\\n|Glucono-delta-lactone|E 575|\\n|Gluconate de sodium|E 576|\\n|Gluconate de potassium|E 577|\\n|Gluconate de calcium|E 578|\\n|Gluconate ferreux|E 579|\\n|Lactate ferreux|E 585|\\n|L-leucine|E 641|\\n|Cire d’abeille blanche et jaune|E 901|\\n|Cire de candelilla|E 902|\\n|Cire de carnauba|E 903|\\n\\nPage 1 4 sur 12\\n---\\n|Codification :|CDP_QUA_CHART_01|\\n|---|---|\\n|CHARTE PRODUITS COUP DE PATES|Version : 5|\\n|Date d’application :| |\\n|13/12/2023| |\\n|Shellac|E 904|\\n|L-cystéine|E 920|\\n|Carbamide|E 927b|\\n|Argon|E 938|\\n|Hélium|E 939|\\n|Azote|E 941|\\n|Protoxyde d’azote|E 942|\\n|Oxygène|E 948|\\n|Hydrogène|E 949|\\n|Néohespéridine DC|E 959|\\n|Glycosides de stéviol|E 960|\\n| |Page 1 5 sur 12|\\n---\\n# Codification :\\n\\nCDP_QUA_CHART_01\\n\\n# CHARTE PRODUITS COUP DE PATES\\n\\nVersion : 5\\n\\nDate d’application :\\n\\n|Lac8tol|E|13/12/2023|\\n|---|---|---|\\n|Invertase|E|1103|\\n|Polydextrose|E|1200|\\n|Pullulan|E|1204|\\n|Citrate de triéthyle|E|1505|\\n|Triacétate de glycéryle (triacé8ne)|E|1518|\\n|Propanediol-1,2 (propylène glycol)|E|1520|\\n\\nANNEXE IV : Ingrédients controversés : ingrédients faisant l’objet de rapports scien7fiques controversés et/ou perçus néga7vement par le consommateur.\\n\\nPage 1 6 sur 12\\n---\\n# Codification :\\n\\nCDP_QUA_CHART_01\\n\\n# CHARTE PRODUITS COUP DE PATES\\n\\nVersion : 5\\n\\nDate d’application :\\n\\n13/12/2023\\n\\n|Ingrédient|Mo|\\n|---|---|\\n|Sirop de glucose-fructose|Niveau de transformation élevé + manque de transparence sur le niveau de sucre présent dans le produit|\\n|Maltodextrine|Ingrédient sans intérêt nutritionnel et organoleptique|\\n|Huile de coco/coprah|Contient 80% d’acides gras saturés dont l’excès augmente le risque de maladies cardiovasculaires|\\n|Sirop de maïs|Niveau de transformation élevé + manque de transparence sur le niveau de sucre présent dans le produit|\\n\\nPage 1 7 sur 12', start_char_idx=None, end_char_idx=None, text_template='{metadata_str}\\n\\n{content}', metadata_template='{key}: {value}', metadata_seperator='\\n')]\n"
     ]
    }
   ],
   "source": [
    "## Read PDF files\n",
    "import nest_asyncio\n",
    "\n",
    "nest_asyncio.apply()\n",
    "#GET LLAMA_CLOUD_API_KEY\n",
    "import os\n",
    "from llama_parse import LlamaParse\n",
    "\n",
    "api_key = os.getenv(\"LLAMA_CLOUD_API_KEY\")\n",
    "print(api_key)\n",
    "\n",
    "parser = LlamaParse(\n",
    "    api_key= \"api_key\",  # can also be set in your env as LLAMA_CLOUD_API_KEY\n",
    "    result_type=\"markdown\",  # \"markdown\" and \"text\" are available\n",
    "    num_workers=4,  # if multiple files passed, split in `num_workers` API calls\n",
    "    verbose=True,\n",
    "    language=\"fr\",  # Optionally you can define a language, default=en\n",
    ")\n",
    "# sync\n",
    "documents = parser.load_data(\"./docs/CHARTE_QUALITE_PRODUIT.pdf\")\n",
    "print(documents)\n"
   ]
  },
  {
   "cell_type": "code",
   "execution_count": 47,
   "metadata": {},
   "outputs": [
    {
     "name": "stdout",
     "output_type": "stream",
     "text": [
      "DOC LENGTH : 27448 characters\n",
      "ion OGM|INTERDIT|INTERDIT|INTERDIT|\n",
      "|Traitement par Ionisation|INTERDIT|INTERDIT|INTERDIT|\n",
      "|Colorants azoïques (E102, E104, E110,E122, E124, E129)|INTERDIT|INTERDIT|INTERDIT|\n",
      "|Nanoparticules (E170, E171, E172,E174, E152, E341, E551 et E552)|INTERDIT|INTERDIT|INTERDIT|\n",
      "|Glutamates et exhausteurs de goût|INTERDIT|INTERDIT|INTERDIT|\n",
      "|Œufs de poules élevées en cage|INTERDIT|INTERDIT|INTERDIT|\n",
      "|Matières grasses partiellementhydrogénées|INTERDIT|INTERDIT|INTERDIT|\n",
      "|Acides gras trans non naturellementprésents|INTERDIT|INTERDIT|INTERDIT|\n",
      "|Edulcorants de synthèse|INTERDIT|INTERDIT|INTERDIT|\n",
      "|Viande Séparée Mécaniquement - VSM|INTERDIT|INTERDIT|INTERDIT|\n",
      "|Cacao non certifié durable|INTERDIT| |* interdit pour tous les NPD et plan action pour remplacer le cacao non certifié dans l'existant.|\n",
      "|Gélatine porcine|INTERDIT|INTERDIT|INTERDIT|\n",
      "|Gélatine animale – (autre que porcine)|A EVITER|INTERDIT|INTERDIT|\n",
      "| |tolérance dans les pâtisseries|tolérance dans les pâtisseries| |\n",
      "\n",
      "Page 3 sur 12\n",
      "---\n",
      "# Codifi\n"
     ]
    }
   ],
   "source": [
    "print(f\"DOC LENGTH : {len(documents[0].text)} characters\")\n",
    "print(documents[0].text[3000:4000])"
   ]
  },
  {
   "cell_type": "code",
   "execution_count": 48,
   "metadata": {},
   "outputs": [],
   "source": [
    "# function to Delete elements of more then 30 char that repeats itself in the text\n",
    "def remove_headers_footers(ocr_text, min_length=40, min_repetitions=3):\n",
    "    segments = ocr_text.split(\"\\n\")  # Split OCR text into segments (assuming newline-separated)\n",
    "    repeated_segments = {}  # Dictionary to store repeated segments and their counts\n",
    "\n",
    "    # Count repetitions of each segment\n",
    "    for segment in segments:\n",
    "        if len(segment) >= min_length:\n",
    "            if segment in repeated_segments:\n",
    "                repeated_segments[segment] += 1\n",
    "            else:\n",
    "                repeated_segments[segment] = 1\n",
    "\n",
    "    # Identify segments to remove based on repetition count\n",
    "    segments_to_remove = []\n",
    "    for segment, count in repeated_segments.items():\n",
    "        if count >= min_repetitions:\n",
    "            segments_to_remove.append(segment)\n",
    "\n",
    "    print(segments_to_remove)\n",
    "    # Remove identified segments from OCR text\n",
    "    cleaned_text = ocr_text\n",
    "    for segment in segments_to_remove:\n",
    "        cleaned_text = cleaned_text.replace(segment, \"\")\n",
    "\n",
    "    return cleaned_text.strip()  # Strip leading and trailing whitespace\n",
    "\n",
    "\n",
    "\n"
   ]
  },
  {
   "cell_type": "code",
   "execution_count": 64,
   "metadata": {},
   "outputs": [
    {
     "name": "stdout",
     "output_type": "stream",
     "text": [
      "['# Codification :', 'Version : 5', 'Date d’application : 13/12/2023', 'CDP_QUA_CHART_01', '# CHARTE PRODUITS COUP DE PATES Version : 5', '# CHARTE PRODUITS COUP DE PATES', '# Date d’application :', '13/12/2023', '|---|---|---|---|', 'Date d’application: 13/12/2023', 'Date d’application :', 'CHARTE PRODUITS COUP DE PATES Version : 5', '|---|---|---|', '|Codification :|CDP_QUA_CHART_01|', '|Date d’application :| |', '|CHARTE PRODUITS COUP DE PATES|Version : 5|']\n"
     ]
    }
   ],
   "source": [
    "cleaned_text = remove_headers_footers(documents[0].text, min_length=10, min_repetitions=3)"
   ]
  },
  {
   "cell_type": "code",
   "execution_count": 65,
   "metadata": {},
   "outputs": [
    {
     "name": "stdout",
     "output_type": "stream",
     "text": [
      "Cleaned text LENGTH : 24189 characters\n",
      "ITER|INTERDIT|INTERDIT|\n",
      "| |tolérance dans les pâtisseries|tolérance dans les pâtisseries| |\n",
      "---\n",
      "| |INTERDIT|A EVITER|A EVITER|INTERDIT|\n",
      "---|\n",
      "|Huile de palme + palmiste non RSPO|* interdit pour tous les NPD et plan action pour retirer dans l'existant - (tolérée dans supports d’additifs) - En aucun cas, l’huilede palme non RSPO ne pourra être substituée par de l’huile de coprah ou coco.| | | |\n",
      "|Huile de palme + palmiste RSPO| |A EVITER|A EVITER|INTERDIT|\n",
      "|Arômes artificiels| | |tolérance dans lespâtisseries|INTERDIT|\n",
      "| | | |*sauf arômes de fumée et vanilline| |\n",
      "---\n",
      "|Colorants artificiels|A EVITER|A EVITER|INTERDIT|\n",
      "| |Interdit dans les produits salés| | |\n",
      "Ingrédients controversés (cf.Annexe IV)\n",
      "A EVITER\n",
      "A EVITER\n",
      "INTERDIT\n",
      "|Additifs rouges (cf. Annexe I)|A EVITER|INTERDIT|INTERDIT|\n",
      "| |hors nitrites et polyphosphates| |hors nitrites dans les produits de salaison|\n",
      "Additifs Oranges (cf. Annexe II)\n",
      "A EVITER\n",
      "A EVITER\n",
      "A EVITER\n",
      "|Nitrites (E250 à E252)|A EVITER|A EVITER|INTERDIT|\n",
      "| | | |Hors produits de salaison|\n",
      "Polyphosphates (E450 à 452 - E339 à341)\n",
      "A EVITER\n",
      "A EVITER\n",
      "INTERDIT\n",
      "Viande et volaille origine hors UE\n",
      "A EVITER\n",
      "A EVITER\n",
      "INTERDIT\n",
      "A EVITER INTERDIT\n",
      "L’ensemble de ces critères est applicable à tous les produits vendus par Coup de Pates. Des dérogations peuvent être accordées au cas par cas, sur justifications fournies par le fournisseur et après validation par la direction qualité Coup de Pates.\n",
      "# Produits soumis à certification ou allégations\n",
      "Le fournisseur se doit de communiquer\n"
     ]
    }
   ],
   "source": [
    "import re\n",
    "cleaned_text = re.sub(r\"^Page.*$\", \"\", cleaned_text, flags=re.MULTILINE)#delete the entire line that start with \"page ..\"\n",
    "cleaned_text =  re.sub(r\"\\n+\", \"\\n\", cleaned_text) #delete multiple new lines\n",
    "print(f\"Cleaned text LENGTH : {len(cleaned_text)} characters\")\n",
    "print(cleaned_text[3500:5000])"
   ]
  },
  {
   "cell_type": "code",
   "execution_count": null,
   "metadata": {},
   "outputs": [],
   "source": [
    "# Ask an llm to rewrite the text in a more readable & understandable way"
   ]
  }
 ],
 "metadata": {
  "kernelspec": {
   "display_name": ".venv",
   "language": "python",
   "name": "python3"
  },
  "language_info": {
   "codemirror_mode": {
    "name": "ipython",
    "version": 3
   },
   "file_extension": ".py",
   "mimetype": "text/x-python",
   "name": "python",
   "nbconvert_exporter": "python",
   "pygments_lexer": "ipython3",
   "version": "3.12.3"
  }
 },
 "nbformat": 4,
 "nbformat_minor": 2
}
